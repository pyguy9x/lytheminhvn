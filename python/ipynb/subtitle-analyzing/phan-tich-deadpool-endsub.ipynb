{
 "cells": [
  {
   "cell_type": "code",
   "execution_count": 60,
   "metadata": {},
   "outputs": [],
   "source": [
    "# -*- coding: utf8 -*-\n",
    "data = open('dp2en.txt',mode=\"r\", encoding=\"utf-8\")"
   ]
  },
  {
   "cell_type": "code",
   "execution_count": 61,
   "metadata": {},
   "outputs": [
    {
     "name": "stdout",
     "output_type": "stream",
     "text": [
      "Có 2128 dòng và 51018 kí tự \n"
     ]
    }
   ],
   "source": [
    "import re\n",
    "counts = dict()\n",
    "counts_word = dict() # đếm từ\n",
    "dem = 0\n",
    "dem_kt = 0\n",
    "for line in data:\n",
    "    line = line.strip().split()\n",
    "    dem = dem + 1\n",
    "    for word in line:\n",
    "        counts_word[word] = counts_word.get(word,0) + 1\n",
    "        for kitu in word:\n",
    "            kitu = str(kitu).lower()\n",
    "            counts[kitu] = counts.get(kitu,0) + 1\n",
    "            dem_kt = dem_kt + 1\n",
    "print(\"Có {0} dòng và {1} kí tự \".format(dem,dem_kt))  \n",
    "data.close() "
   ]
  },
  {
   "cell_type": "code",
   "execution_count": 62,
   "metadata": {},
   "outputs": [
    {
     "name": "stdout",
     "output_type": "stream",
     "text": [
      "Từ               Số lần xuất hiện\n",
      "\n",
      "﻿Fuck            1    \n",
      "Wolverine.       1    \n",
      "First,           1    \n",
      "he               21   \n",
      "rides            1    \n",
      "my               69   \n",
      "coattailswith    1    \n",
      "the              250  \n",
      "R                1    \n",
      "rating.          1    \n",
      "Then             3    \n",
      "hairy            1    \n",
      "motherfuckerups  1    \n",
      "ante             1    \n",
      "by               11   \n",
      "dying.           2    \n",
      "What             40   \n",
      "a                211  \n",
      "dick.            2    \n",
      "Well,            13   \n",
      "guess            5    \n",
      "what,            4    \n",
      "Wolvie?          1    \n",
      "I'm              119  \n",
      "dying            1    \n",
      "in               82   \n",
      "this             51   \n",
      "one,             1    \n",
      "too.             9    \n",
      "To               2    \n",
      "understandwhy    1    \n",
      "I                301  \n",
      "took             3    \n",
      "cat-nap          1    \n",
      "on               22   \n",
      "1,200            1    \n",
      "gallonsof        1    \n",
      "high-test        1    \n",
      "fuel...          1    \n",
      "need             23   \n",
      "to               189  \n",
      "take             12   \n",
      "you              192  \n",
      "back             8    \n",
      "dewy             1    \n",
      "slopesof         1    \n",
      "six              1    \n",
      "weeks            2    \n",
      "ago.             2    \n",
      "I'd              8    \n",
      "gone             1    \n",
      "international,   1    \n",
      "taking           2    \n",
      "out              21   \n",
      "mass             1    \n",
      "murderers,gangsters, 1    \n",
      "unspeakable      1    \n",
      "monsters.        1    \n",
      "People           3    \n",
      "nobody           1    \n",
      "would            16   \n",
      "touch.Except     1    \n",
      "me.              43   \n",
      "gonna            42   \n",
      "touch            2    \n",
      "them             7    \n",
      "all              24   \n",
      "over.            3    \n",
      "Hey,             6    \n",
      "it's             17   \n",
      "Gail             1    \n",
      "calling.         1    \n",
      "Love             2    \n",
      "shiny            1    \n",
      "suit.            4    \n",
      "Really           2    \n",
      "brings           1    \n",
      "sex              4    \n",
      "traffickerin     1    \n",
      "your             83   \n",
      "eyes.            2    \n",
      "don'tspeak       1    \n",
      "Cantonese,       1    \n",
      "Mister...        1    \n",
      "not              73   \n",
      "even             8    \n",
      "gonnaattempt     1    \n",
      "that.            12   \n",
      "But              34   \n",
      "did              22   \n",
      "8th              1    \n",
      "grade            1    \n",
      "Spanish,         1    \n",
      "so...            1    \n",
      "Which            2    \n",
      "literallytranslates 1    \n",
      "to...            2    \n",
      "don't            38   \n",
      "bargain,pumpkin  1    \n",
      "fucker.          1    \n"
     ]
    }
   ],
   "source": [
    "print(\"{:16} {:<5}\".format(\"Từ\",\"Số lần xuất hiện\\n\"))\n",
    "dem = 0\n",
    "for i in counts_word:\n",
    "    dem = dem + 1\n",
    "    print(\"{:16} {:<5}\".format(i,counts_word[i]))\n",
    "    if dem == 100:\n",
    "        break"
   ]
  },
  {
   "cell_type": "code",
   "execution_count": 63,
   "metadata": {},
   "outputs": [
    {
     "name": "stdout",
     "output_type": "stream",
     "text": [
      "Số lần xuất hiện nhiều nhất: \n",
      "301\n"
     ]
    }
   ],
   "source": [
    "print('Số lần xuất hiện nhiều nhất: ')\n",
    "maxx = []\n",
    "for i in counts_word.values():\n",
    "    maxx.append(i)\n",
    "maxs = max(maxx)\n",
    "print(maxs)"
   ]
  },
  {
   "cell_type": "code",
   "execution_count": 64,
   "metadata": {},
   "outputs": [
    {
     "name": "stdout",
     "output_type": "stream",
     "text": [
      "Từ xuất hiện nhiều nhất: \n",
      "I\n"
     ]
    }
   ],
   "source": [
    "print('Từ xuất hiện nhiều nhất: ')\n",
    "for k,v in counts_word.items():\n",
    "    if counts_word[k] == maxs:\n",
    "        print(k)\n",
    "        break"
   ]
  },
  {
   "cell_type": "code",
   "execution_count": 65,
   "metadata": {},
   "outputs": [
    {
     "name": "stdout",
     "output_type": "stream",
     "text": [
      "[(301, 'I'), (250, 'the'), (211, 'a'), (192, 'you'), (189, 'to'), (119, \"I'm\"), (115, 'of'), (91, 'You'), (83, 'your'), (82, 'in')]\n"
     ]
    }
   ],
   "source": [
    "lst = sorted([(v,k) for k,v in counts_word.items()])\n",
    "lst.sort(reverse=True)\n",
    "print(lst[:10])"
   ]
  },
  {
   "cell_type": "code",
   "execution_count": 66,
   "metadata": {},
   "outputs": [
    {
     "name": "stdout",
     "output_type": "stream",
     "text": [
      "Tốp 20 từ phổ biến nhất:\n",
      "\n",
      "Từ               Số lần xuất hiện\n",
      "\n",
      "I                301  \n",
      "the              250  \n",
      "a                211  \n",
      "you              192  \n",
      "to               189  \n",
      "I'm              119  \n",
      "of               115  \n",
      "You              91   \n",
      "your             83   \n",
      "in               82   \n",
      "and              77   \n",
      "it               74   \n",
      "not              73   \n",
      "is               72   \n",
      "that             70   \n",
      "my               69   \n",
      "Oh,              56   \n",
      "this             51   \n",
      "are              50   \n",
      "was              49   \n"
     ]
    }
   ],
   "source": [
    "print('Tốp 20 từ phổ biến nhất:\\n')\n",
    "print(\"{:16} {:<5}\".format(\"Từ\",\"Số lần xuất hiện\\n\"))\n",
    "dem = 0\n",
    "for x,y in lst:\n",
    "    dem = dem + 1\n",
    "    print(\"{:16} {:<5}\".format(y,x))\n",
    "    if dem == 20:\n",
    "        break"
   ]
  },
  {
   "cell_type": "code",
   "execution_count": 67,
   "metadata": {},
   "outputs": [
    {
     "name": "stdout",
     "output_type": "stream",
     "text": [
      "Chữ cái          Số lần xuất hiện\n",
      "\n",
      "﻿                1    \n",
      "f                843  \n",
      "u                1945 \n",
      "c                1075 \n",
      "k                789  \n",
      "w                1159 \n",
      "o                4062 \n",
      "l                1871 \n",
      "v                388  \n",
      "e                5324 \n",
      "r                2405 \n",
      "i                3328 \n",
      "n                2892 \n",
      ".                2083 \n",
      "s                2700 \n",
      "t                4192 \n",
      ",                748  \n",
      "h                2501 \n",
      "d                1612 \n",
      "m                1271 \n",
      "y                1592 \n",
      "a                3473 \n",
      "g                1186 \n",
      "p                721  \n",
      "b                796  \n",
      "?                301  \n",
      "'                800  \n",
      "-                91   \n",
      "1                26   \n",
      "2                11   \n",
      "0                33   \n",
      "x                97   \n",
      "8                7    \n",
      "!                399  \n",
      "\"                72   \n",
      "7                4    \n",
      "j                123  \n",
      "q                12   \n",
      "♪                14   \n",
      "z                37   \n",
      "&                1    \n",
      "3                12   \n",
      "6                2    \n",
      "4                7    \n",
      "9                2    \n",
      ":                4    \n",
      "5                5    \n",
      "$                1    \n"
     ]
    }
   ],
   "source": [
    "print(\"{:16} {:<5}\".format(\"Chữ cái\",\"Số lần xuất hiện\\n\"))\n",
    "for i in counts:\n",
    "    print(\"{:16} {:<5}\".format(i,counts[i]))"
   ]
  },
  {
   "cell_type": "code",
   "execution_count": 68,
   "metadata": {},
   "outputs": [
    {
     "name": "stdout",
     "output_type": "stream",
     "text": [
      "Số lần xuất hiện nhiều nhất: \n",
      "301\n"
     ]
    }
   ],
   "source": [
    "print('Số lần xuất hiện nhiều nhất: ')\n",
    "maxx = []\n",
    "for i in counts_word.values():\n",
    "    maxx.append(i)\n",
    "maxs = max(maxx)\n",
    "print(maxs)"
   ]
  },
  {
   "cell_type": "code",
   "execution_count": 69,
   "metadata": {},
   "outputs": [
    {
     "name": "stdout",
     "output_type": "stream",
     "text": [
      "Từ xuất hiện nhiều nhất: \n",
      "I\n"
     ]
    }
   ],
   "source": [
    "print('Từ xuất hiện nhiều nhất: ')\n",
    "for k,v in counts_word.items():\n",
    "    if counts_word[k] == maxs:\n",
    "        print(k)\n",
    "        break"
   ]
  },
  {
   "cell_type": "code",
   "execution_count": 70,
   "metadata": {},
   "outputs": [
    {
     "name": "stdout",
     "output_type": "stream",
     "text": [
      "motherfuckerups\n",
      "fucker.\n",
      "fuck\n",
      "fucking\n",
      "motherfucker!\n",
      "motherfucker!Shoot\n",
      "nobodyfucking\n",
      "Motherfuck!\n",
      "fuckis\n",
      "fuck?\n",
      "fuck.\n",
      "fuck,\n",
      "fuck!\n",
      "fuckhead's\n",
      "yard,fuckface...\n",
      "fucker\n",
      "fuckabout\n",
      "fuckable\n",
      "motherfuckers.\n",
      "fuckdo\n",
      "Trippingmotherfucking\n",
      "fucked!\n",
      "fucked.\n",
      "fuckare\n",
      "fuckingblood\n",
      "fuckedthis\n",
      "fucked\n",
      "fucker'stoo\n",
      "fuck...\n",
      "\"fuck\"\n",
      "fuckingawesome\n",
      "motherfuckers!\n",
      "motherfucker.\n",
      "33\n"
     ]
    }
   ],
   "source": [
    "dem = 0\n",
    "for i in counts_word.keys():\n",
    "    if 'fuck' in i:\n",
    "        print(i)\n",
    "        dem = dem + 1\n",
    "print(dem)"
   ]
  },
  {
   "cell_type": "code",
   "execution_count": 71,
   "metadata": {},
   "outputs": [
    {
     "name": "stdout",
     "output_type": "stream",
     "text": [
      "dick.\n",
      "dick\n",
      "dickin\n",
      "dick,you\n",
      "getdick-slapped.\n",
      "dick.\"\n",
      "dick!\n",
      "dicks,he's\n",
      "dick?\n",
      "dick.I'm\n",
      "10\n"
     ]
    }
   ],
   "source": [
    "dem = 0\n",
    "for i in counts_word.keys():\n",
    "    if 'dick' in i:\n",
    "        print(i)\n",
    "        dem = dem + 1\n",
    "print(dem)"
   ]
  },
  {
   "cell_type": "code",
   "execution_count": 72,
   "metadata": {},
   "outputs": [
    {
     "name": "stdout",
     "output_type": "stream",
     "text": [
      "sex\n",
      "sexyas\n",
      "sexwith\n",
      "Essex\n",
      "sexism\n",
      "sexual\n",
      "buddiesexecute\n",
      "7\n"
     ]
    }
   ],
   "source": [
    "dem = 0\n",
    "for i in counts_word.keys():\n",
    "    if 'sex' in i:\n",
    "        print(i)\n",
    "        dem = dem + 1\n",
    "print(dem)"
   ]
  },
  {
   "cell_type": "code",
   "execution_count": 73,
   "metadata": {},
   "outputs": [
    {
     "name": "stdout",
     "output_type": "stream",
     "text": [
      "goddamn\n",
      "yourgoddamn\n",
      "goddamnsuperhero,\n",
      "Goddamn,\n",
      "4\n"
     ]
    }
   ],
   "source": [
    "dem = 0\n",
    "for i in counts_word.keys():\n",
    "    if 'damn' in i:\n",
    "        print(i)\n",
    "        dem = dem + 1\n",
    "print(dem)"
   ]
  },
  {
   "cell_type": "code",
   "execution_count": 74,
   "metadata": {},
   "outputs": [
    {
     "name": "stdout",
     "output_type": "stream",
     "text": [
      "sex\n",
      "sexyas\n",
      "sexwith\n",
      "Essex\n",
      "sexism\n",
      "sexual\n",
      "buddiesexecute\n",
      "7\n"
     ]
    }
   ],
   "source": [
    "dem = 0\n",
    "for i in counts_word.keys():\n",
    "    if 'sex' in i:\n",
    "        print(i)\n",
    "        dem = dem + 1\n",
    "print(dem)"
   ]
  },
  {
   "cell_type": "code",
   "execution_count": 75,
   "metadata": {},
   "outputs": [
    {
     "name": "stdout",
     "output_type": "stream",
     "text": [
      "Danh sách các từ tục nhất\n",
      "['fuck', 'shit', 'piss', 'dick-head', 'ass', 'bastard', 'porn', 'bitch', 'damn', 'cunt', 'cock', 'hell', 'penis', 'cum', 'sex', 'boob', 'thicc', 'butt', 'suck']\n"
     ]
    }
   ],
   "source": [
    "print('Danh sách các từ tục nhất')\n",
    "#bad_word = ['sex', 'dick', 'fuck', 'damn', 'suck', 'cunt','boob','thicc','butt']\n",
    "a = 'fuck shit piss dick-head ass bastard porn bitch damn cunt cock hell penis cum sex boob thicc butt suck'\n",
    "bad_word = list(a.split())\n",
    "print(bad_word)"
   ]
  },
  {
   "cell_type": "code",
   "execution_count": 81,
   "metadata": {},
   "outputs": [
    {
     "name": "stdout",
     "output_type": "stream",
     "text": [
      "Kiểm tra xem phụ đề có chứa các từ này hay không :)\n",
      "\n",
      "motherfuckerups\n",
      "mass\n",
      "sex\n",
      "fucker.\n",
      "fuck\n",
      "shit\n",
      "fucking\n",
      "motherfucker!\n",
      "motherfucker!Shoot\n",
      "Passion\n",
      "sexyas\n",
      "goddamn\n",
      "badass.\n",
      "pornand\n",
      "sexwith\n",
      "nobodyfucking\n",
      "pissing?Are\n",
      "pissing?\n",
      "ass\n",
      "Motherfuck!\n",
      "hell\n",
      "shit.\n",
      "fuckis\n",
      "fuck?\n",
      "assholes\n",
      "asshole\n",
      "hell?I'm\n",
      "shit.Right?\n",
      "passwith\n",
      "dumbass\n",
      "shit...\n",
      "fuck.\n",
      "Essex\n",
      "assure\n",
      "embarrassing\n",
      "shit!That\n",
      "shitholejust\n",
      "fuck,\n",
      "fuck!\n",
      "shit,\n",
      "fuckhead's\n",
      "thatpisses\n",
      "bitch!\n",
      "hello\n",
      "Cassidy.\n",
      "cunt\n",
      "yard,fuckface...\n",
      "piss\n",
      "fucker\n",
      "fuckabout\n",
      "fuckable\n",
      "motherfuckers.\n",
      "14shit.\n",
      "fuckdo\n",
      "bitch.\n",
      "yourgoddamn\n",
      "sexism\n",
      "shit!\n",
      "bitches.\n",
      "Trippingmotherfucking\n",
      "goddamnsuperhero,\n",
      "fucked!\n",
      "fucked.\n",
      "out,glass\n",
      "pipe-sucking\n",
      "fuckare\n",
      "badass,\n",
      "shirt-cocking\n",
      "hell's\n",
      "cockthe\n",
      "fuckingblood\n",
      "ass?\n",
      "shitholeto\n",
      "sucky-suck.\n",
      "cunt!\n",
      "sucks\n",
      "sucks.\n",
      "somecold-ass\n",
      "prostate-assisted\n",
      "hellare\n",
      "sexual\n",
      "fuckedthis\n",
      "shita\n",
      "fucked\n",
      "fucker'stoo\n",
      "fuck...\n",
      "ass.\n",
      "scum!\n",
      "buddiesexecute\n",
      "butt\n",
      "cock\n",
      "\"fuck\"\n",
      "hell,\n",
      "fuckingawesome\n",
      "penis\n",
      "hellwith\n",
      "motherfuckers!\n",
      "motherfucker.\n",
      "Goddamn,\n",
      "hell.\n",
      "bastard.\n",
      "\n",
      "Số các từ tục tĩu:  101 / 3934\n"
     ]
    }
   ],
   "source": [
    "print('Kiểm tra xem phụ đề có chứa các từ này hay không :)\\n')\n",
    "dem = 0\n",
    "# Tổng số từ\n",
    "tong = len(counts_word)\n",
    "for i in counts_word.keys():\n",
    "    chk = any(lem in i for lem in bad_word)\n",
    "    if chk:\n",
    "        print(i)\n",
    "        dem = dem + 1\n",
    "print('\\nSố các từ tục tĩu: ',dem,'/',tong)"
   ]
  },
  {
   "cell_type": "code",
   "execution_count": 82,
   "metadata": {},
   "outputs": [
    {
     "name": "stdout",
     "output_type": "stream",
     "text": [
      "Chiếm  2.567361464158617 %\n"
     ]
    }
   ],
   "source": [
    "print('Chiếm ',(dem/tong)*100,'%')"
   ]
  },
  {
   "cell_type": "code",
   "execution_count": 83,
   "metadata": {},
   "outputs": [
    {
     "name": "stdout",
     "output_type": "stream",
     "text": [
      "fuck  found at  motherfuckerups\n",
      "ass  found at  mass\n",
      "sex  found at  sex\n",
      "fuck  found at  fucker.\n",
      "fuck  found at  fuck\n",
      "shit  found at  shit\n",
      "fuck  found at  fucking\n",
      "fuck  found at  motherfucker!\n",
      "fuck  found at  motherfucker!Shoot\n",
      "ass  found at  Passion\n",
      "sex  found at  sexyas\n",
      "damn  found at  goddamn\n",
      "ass  found at  badass.\n",
      "porn  found at  pornand\n",
      "sex  found at  sexwith\n",
      "fuck  found at  nobodyfucking\n",
      "piss  found at  pissing?Are\n",
      "piss  found at  pissing?\n",
      "ass  found at  ass\n",
      "fuck  found at  Motherfuck!\n",
      "hell  found at  hell\n",
      "shit  found at  shit.\n",
      "fuck  found at  fuckis\n",
      "fuck  found at  fuck?\n",
      "ass  found at  assholes\n",
      "ass  found at  asshole\n",
      "hell  found at  hell?I'm\n",
      "shit  found at  shit.Right?\n",
      "ass  found at  passwith\n",
      "ass  found at  dumbass\n",
      "shit  found at  shit...\n",
      "fuck  found at  fuck.\n",
      "sex  found at  Essex\n",
      "ass  found at  assure\n",
      "ass  found at  embarrassing\n",
      "shit  found at  shit!That\n",
      "shit  found at  shitholejust\n",
      "fuck  found at  fuck,\n",
      "fuck  found at  fuck!\n",
      "shit  found at  shit,\n",
      "fuck  found at  fuckhead's\n",
      "piss  found at  thatpisses\n",
      "bitch  found at  bitch!\n",
      "hell  found at  hello\n",
      "ass  found at  Cassidy.\n",
      "cunt  found at  cunt\n",
      "fuck  found at  yard,fuckface...\n",
      "piss  found at  piss\n",
      "fuck  found at  fucker\n",
      "fuck  found at  fuckabout\n",
      "fuck  found at  fuckable\n",
      "fuck  found at  motherfuckers.\n",
      "shit  found at  14shit.\n",
      "fuck  found at  fuckdo\n",
      "bitch  found at  bitch.\n",
      "damn  found at  yourgoddamn\n",
      "sex  found at  sexism\n",
      "shit  found at  shit!\n",
      "bitch  found at  bitches.\n",
      "fuck  found at  Trippingmotherfucking\n",
      "damn  found at  goddamnsuperhero,\n",
      "fuck  found at  fucked!\n",
      "fuck  found at  fucked.\n",
      "ass  found at  out,glass\n",
      "suck  found at  pipe-sucking\n",
      "fuck  found at  fuckare\n",
      "ass  found at  badass,\n",
      "cock  found at  shirt-cocking\n",
      "hell  found at  hell's\n",
      "cock  found at  cockthe\n",
      "fuck  found at  fuckingblood\n",
      "ass  found at  ass?\n",
      "shit  found at  shitholeto\n",
      "suck  found at  sucky-suck.\n",
      "cunt  found at  cunt!\n",
      "suck  found at  sucks\n",
      "suck  found at  sucks.\n",
      "ass  found at  somecold-ass\n",
      "ass  found at  prostate-assisted\n",
      "hell  found at  hellare\n",
      "sex  found at  sexual\n",
      "fuck  found at  fuckedthis\n",
      "shit  found at  shita\n",
      "fuck  found at  fucked\n",
      "fuck  found at  fucker'stoo\n",
      "fuck  found at  fuck...\n",
      "ass  found at  ass.\n",
      "cum  found at  scum!\n",
      "sex  found at  buddiesexecute\n",
      "butt  found at  butt\n",
      "cock  found at  cock\n",
      "fuck  found at  \"fuck\"\n",
      "hell  found at  hell,\n",
      "fuck  found at  fuckingawesome\n",
      "penis  found at  penis\n",
      "hell  found at  hellwith\n",
      "fuck  found at  motherfuckers!\n",
      "fuck  found at  motherfucker.\n",
      "damn  found at  Goddamn,\n",
      "hell  found at  hell.\n",
      "bastard  found at  bastard.\n"
     ]
    }
   ],
   "source": [
    "for i in counts_word.keys():\n",
    "    for j in bad_word:\n",
    "        if j in i:\n",
    "            print(j,' found at ',i)"
   ]
  },
  {
   "cell_type": "code",
   "execution_count": null,
   "metadata": {},
   "outputs": [],
   "source": []
  }
 ],
 "metadata": {
  "kernelspec": {
   "display_name": "Python 3",
   "language": "python",
   "name": "python3"
  },
  "language_info": {
   "codemirror_mode": {
    "name": "ipython",
    "version": 3
   },
   "file_extension": ".py",
   "mimetype": "text/x-python",
   "name": "python",
   "nbconvert_exporter": "python",
   "pygments_lexer": "ipython3",
   "version": "3.9.1"
  }
 },
 "nbformat": 4,
 "nbformat_minor": 2
}
