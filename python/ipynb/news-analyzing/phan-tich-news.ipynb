{
 "cells": [
  {
   "cell_type": "code",
   "execution_count": 200,
   "metadata": {},
   "outputs": [],
   "source": [
    "# -*- coding: utf8 -*-\n",
    "# file_phuDe = 'dp2en.txt'\n",
    "import os\n",
    "file_phuDe = 'vnexpress_title.txt'\n",
    "os.path.join(file_phuDe)\n",
    "data = open(file_phuDe,mode=\"r\", encoding=\"utf-8\")"
   ]
  },
  {
   "cell_type": "code",
   "execution_count": 201,
   "metadata": {},
   "outputs": [
    {
     "name": "stdout",
     "output_type": "stream",
     "text": [
      "Có 1129 dòng và 39264 kí tự \n",
      "1129\n"
     ]
    }
   ],
   "source": [
    "import re\n",
    "counts = dict() # kí tự xuất hiện nhiều nhất\n",
    "counts_word = dict() # đếm từ\n",
    "dem = 0\n",
    "dem_kt = 0\n",
    "dong = [] # Lưu lại từng dòng\n",
    "skip_word = {'total','không'} # Bỏ qua các từ này\n",
    "for line in data:\n",
    "    dong.append(line)\n",
    "    line = line.strip().split()\n",
    "    dem = dem + 1\n",
    "    for word in line:\n",
    "        if len(word)>=5 and word.lower() not in skip_word:\n",
    "            counts_word[word] = counts_word.get(word,0) + 1\n",
    "        for kitu in word:\n",
    "            kitu = str(kitu).lower()\n",
    "            counts[kitu] = counts.get(kitu,0) + 1\n",
    "            dem_kt = dem_kt + 1\n",
    "data.close()\n",
    "print(\"Có {0} dòng và {1} kí tự \".format(dem,dem_kt))  \n",
    "print(len(dong))"
   ]
  },
  {
   "cell_type": "code",
   "execution_count": 202,
   "metadata": {},
   "outputs": [
    {
     "name": "stdout",
     "output_type": "stream",
     "text": [
      "776\n",
      "[(78, 'người'), (73, 'Covid-19'), (64, 'trong'), (40, 'triệu'), (39, 'thành'), (37, 'vaccine'), (27, 'chống'), (24, 'Những'), (23, 'Trung'), (21, 'chồng')]\n"
     ]
    }
   ],
   "source": [
    "# print(counts)\n",
    "lst = sorted([(v,k) for k,v in counts_word.items()])\n",
    "top_list = list(set(lst))\n",
    "top_list.sort(reverse=True)\n",
    "# print(top_list)\n",
    "print(len(top_list))\n",
    "print(top_list[:10])"
   ]
  },
  {
   "cell_type": "code",
   "execution_count": 203,
   "metadata": {
    "scrolled": true
   },
   "outputs": [
    {
     "name": "stdout",
     "output_type": "stream",
     "text": [
      "Tốp 20 từ phổ biến nhất:\n",
      "\n",
      "Từ               Số lần xuất hiện\n",
      "\n",
      "người            78   \n",
      "Covid-19         73   \n",
      "trong            64   \n",
      "triệu            40   \n",
      "thành            39   \n",
      "vaccine          37   \n",
      "chống            27   \n",
      "Những            24   \n",
      "Trung            23   \n",
      "chồng            21   \n",
      "nghiệp           20   \n",
      "chiến            18   \n",
      "đường            17   \n",
      "nhiều            17   \n",
      "Người            17   \n",
      "khách            15   \n",
      "Olympic          15   \n",
      "tiếng            13   \n",
      "tháng            12   \n",
      "chuyển           12   \n"
     ]
    }
   ],
   "source": [
    "print('Tốp 20 từ phổ biến nhất:\\n')\n",
    "print(\"{:16} {:<5}\".format(\"Từ\",\"Số lần xuất hiện\\n\"))\n",
    "dem = 0\n",
    "for x,y in top_list:\n",
    "    dem = dem + 1\n",
    "    print(\"{:16} {:<5}\".format(y,x))\n",
    "    if dem == 20:\n",
    "        break"
   ]
  },
  {
   "cell_type": "code",
   "execution_count": 205,
   "metadata": {},
   "outputs": [
    {
     "name": "stdout",
     "output_type": "stream",
     "text": [
      "20  tin tức liên quan: \n",
      "\n",
      "LHQ cảnh báo Myanmar thành nước 'siêu lây nhiễm'\n",
      "Barca rơi chiến thắng phút chót\n",
      "Người Australia tẩy chay Facebook\n",
      "Cách chăm sóc ôtô không sử dụng trong mùa dịch\n",
      "Tỉnh lại trong tang lễ của mình\n",
      "Cuộc chiến giữa truyền thông cũ và mới\n",
      "Xếp hàng đi chợ dã chiến ở TP HCM\n",
      "Đội quân xe đạp giao hàng cho người cách ly\n",
      "Giúp con ôn toán trong mùa hè qua các khóa học trực tuyến\n",
      "Dùng xe tải, thùng container 'rào khu phố chống dịch'\n",
      "Module Nga cháy rụi trong khí quyển sau 20 năm hoạt động\n",
      "Công an Hà Nội phạt hơn 1,5 tỷ đồng trong ba ngày giãn cách\n",
      "Những lời khuyên 'nghe hay' nhưng không nên theo\n",
      "Coteccons mua vaccine Covid-19 cho nhân viên và người thân\n",
      "Lập thêm 3 trung tâm hồi sức tích cực tại TP HCM\n",
      "Dòng người hồi hương khi Sài Gòn 'trở bệnh'\n",
      "Trung Quốc xuất hiện đợt lây lan Covid-19 rộng nhất sau Vũ Hán\n",
      "Ba tháng 'tập gym không tạ' trong phòng ngủ 18 m2\n",
      "Thêm 26 người Đà Nẵng, 2 Hà Tĩnh nghi Covid-19\n",
      "EU và Mỹ mua trước thuốc trị Covid-19\n"
     ]
    }
   ],
   "source": [
    "print('20  tin tức liên quan: \\n')\n",
    "news = []\n",
    "for line in dong:\n",
    "    for num,word in top_list:\n",
    "        if word.lower() in line.lower() and num>17:\n",
    "#             news.append(line.strip()+' <- chứa từ '+word)\n",
    "            news.append(line.strip())\n",
    "news_set = list(set(news))\n",
    "for i in news_set[:20]:\n",
    "    print(i)"
   ]
  },
  {
   "cell_type": "code",
   "execution_count": 207,
   "metadata": {},
   "outputs": [
    {
     "name": "stdout",
     "output_type": "stream",
     "text": [
      "Xem tin theo từ khóa\n",
      "Nhập từ khóa: việt\n",
      "\n",
      "Người Việt ngày càng văn minh hơn trên Internet\n",
      "Người đẹp chuyển giới thi Hoa hậu Hoàn vũ Việt Nam\n",
      "Romania tặng Việt Nam 100.000 liều vaccine\n",
      "Lộ trình 120 triệu liều vaccine sẽ về Việt Nam\n",
      "Nhật Bản chuyển giao công nghệ sản xuất vaccine Covid-19 cho Việt Nam\n",
      "Lý do dòng vốn vẫn đổ vào startup Việt trong Covid-19\n",
      "Thêm gần 700.000 liều vaccine AstraZeneca về Việt Nam\n",
      "Quân y Việt - Mỹ hợp tác phòng chống Covid-19\n",
      "Đức cam kết hỗ trợ Việt Nam 170 triệu USD\n",
      "Startup Việt Nam sẽ nhận 815 triệu USD vốn đầu tư\n"
     ]
    }
   ],
   "source": [
    "print(\"Xem tin theo từ khóa\")\n",
    "key_word = input(\"Nhập từ khóa: \") or \"covid-19\"\n",
    "print()\n",
    "limit=0\n",
    "for new in news_set:\n",
    "    if key_word.lower() in new.lower():\n",
    "        print(new)\n",
    "        limit=limit+1\n",
    "        if limit==20:\n",
    "            break"
   ]
  },
  {
   "cell_type": "code",
   "execution_count": null,
   "metadata": {},
   "outputs": [],
   "source": [
    "# Coding by Ly The Minh - 30072021"
   ]
  },
  {
   "cell_type": "code",
   "execution_count": null,
   "metadata": {},
   "outputs": [],
   "source": []
  }
 ],
 "metadata": {
  "kernelspec": {
   "display_name": "Python 3",
   "language": "python",
   "name": "python3"
  },
  "language_info": {
   "codemirror_mode": {
    "name": "ipython",
    "version": 3
   },
   "file_extension": ".py",
   "mimetype": "text/x-python",
   "name": "python",
   "nbconvert_exporter": "python",
   "pygments_lexer": "ipython3",
   "version": "3.9.1"
  }
 },
 "nbformat": 4,
 "nbformat_minor": 2
}
