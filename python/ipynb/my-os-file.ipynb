{
 "cells": [
  {
   "cell_type": "code",
   "execution_count": 8,
   "id": "c02a60f2",
   "metadata": {},
   "outputs": [
    {
     "data": {
      "application/javascript": [
       "IPython.notebook.set_autosave_interval(10000)"
      ]
     },
     "metadata": {},
     "output_type": "display_data"
    },
    {
     "name": "stdout",
     "output_type": "stream",
     "text": [
      "Autosaving every 10 seconds\n"
     ]
    }
   ],
   "source": [
    "%autosave 10\n",
    "# auto save after 10 seconds"
   ]
  },
  {
   "cell_type": "markdown",
   "id": "ced79b35",
   "metadata": {},
   "source": [
    "# Xử lý với thư mục và tệp\n",
    "##  HDSD:\n",
    "### Auto-complete: Press Tab\n",
    "### Help: Press Shift-Tab\n",
    "### Run code: Shift-Enter"
   ]
  },
  {
   "cell_type": "code",
   "execution_count": 1,
   "id": "aa203990",
   "metadata": {},
   "outputs": [],
   "source": [
    "import os\n",
    "import sys\n",
    "path = \"E:\\lap-trinh\\python\\jupyter-file\"\n",
    "os.path.join(path)\n",
    "# Check if path exist\n",
    "if not os.path.exists(path):\n",
    "    print(\"Path not found\")\n",
    "# Chuyển tới thư mục làm việc\n",
    "os.chdir(path) \n",
    "sys.path.append(path)\n"
   ]
  },
  {
   "cell_type": "markdown",
   "id": "d67ecb4b",
   "metadata": {},
   "source": [
    "#### PATH is"
   ]
  },
  {
   "cell_type": "code",
   "execution_count": 2,
   "id": "e104eb65",
   "metadata": {},
   "outputs": [
    {
     "data": {
      "text/plain": [
       "'E:\\\\lap-trinh\\\\python\\\\jupyter-file'"
      ]
     },
     "execution_count": 2,
     "metadata": {},
     "output_type": "execute_result"
    }
   ],
   "source": [
    "# Xem thư mục hiện tại\n",
    "os.getcwd()"
   ]
  },
  {
   "cell_type": "code",
   "execution_count": 3,
   "id": "d68ced29",
   "metadata": {},
   "outputs": [
    {
     "data": {
      "text/plain": [
       "['jupyter.lnk', 'test']"
      ]
     },
     "execution_count": 3,
     "metadata": {},
     "output_type": "execute_result"
    }
   ],
   "source": [
    "# Xem nội dung thư mục\n",
    "all_files = os.listdir(path)\n",
    "all_files"
   ]
  },
  {
   "cell_type": "code",
   "execution_count": 4,
   "id": "6d2d831e",
   "metadata": {},
   "outputs": [
    {
     "name": "stdout",
     "output_type": "stream",
     "text": [
      "E:\\lap-trinh\\python\\jupyter-file  File:  jupyter.lnk\n",
      "E:\\lap-trinh\\python\\jupyter-file\\test  File:  ApplicationConfig.json\n",
      "E:\\lap-trinh\\python\\jupyter-file\\test  File:  History.json\n",
      "E:\\lap-trinh\\python\\jupyter-file\\test  File:  HotkeysConfig.json\n",
      "E:\\lap-trinh\\python\\jupyter-file\\test  File:  UploadersConfig.json\n",
      "E:\\lap-trinh\\python\\jupyter-file\\test\\new1  File:  69b8a4a.BUD\n",
      "E:\\lap-trinh\\python\\jupyter-file\\test\\new1  File:  69b8a4a.gpd\n",
      "E:\\lap-trinh\\python\\jupyter-file\\test\\new1  File:  prnms009.PNF\n"
     ]
    }
   ],
   "source": [
    "# Xem tất cả, kể cả trong thư mục con\n",
    "for root,folders,files in os.walk(path):\n",
    "    for filename in files:\n",
    "        print(root,\" File: \",filename)\n",
    "        "
   ]
  },
  {
   "cell_type": "code",
   "execution_count": 5,
   "id": "cd38a412",
   "metadata": {},
   "outputs": [
    {
     "name": "stdout",
     "output_type": "stream",
     "text": [
      "True <DirEntry 'jupyter.lnk'>\n",
      "jupyter.lnk\n",
      "False <DirEntry 'test'>\n"
     ]
    }
   ],
   "source": [
    "# Get info\n",
    "for entry in os.scandir(path):\n",
    "    print(entry.is_file(),entry)\n",
    "    if not entry.name.startswith('.') and entry.is_file():\n",
    "        print(entry.name)\n"
   ]
  },
  {
   "cell_type": "code",
   "execution_count": 6,
   "id": "689c896b",
   "metadata": {},
   "outputs": [
    {
     "data": {
      "text/plain": [
       "'E:\\\\lap-trinh\\\\python\\\\jupyter-file\\\\\\test\\\\History.json'"
      ]
     },
     "execution_count": 6,
     "metadata": {},
     "output_type": "execute_result"
    }
   ],
   "source": [
    "os.getcwd()\n",
    "# Add a file into path\n",
    "p = os.path.join(os.getcwd(),\"\\test\\History.json\")\n",
    "p\n"
   ]
  },
  {
   "cell_type": "code",
   "execution_count": 7,
   "id": "aa91b6f8",
   "metadata": {},
   "outputs": [
    {
     "name": "stdout",
     "output_type": "stream",
     "text": [
      "History.json\n",
      "E:\\lap-trinh\\python\\jupyter-file\\\test\n"
     ]
    },
    {
     "data": {
      "text/plain": [
       "True"
      ]
     },
     "execution_count": 7,
     "metadata": {},
     "output_type": "execute_result"
    }
   ],
   "source": [
    "# Check if is file\n",
    "print(os.path.basename(p))\n",
    "print(os.path.dirname(p))\n",
    "full_path = os.path.dirname(p) + os.path.basename(p)\n",
    "os.path.isfile('E:\\lap-trinh\\python\\jupyter-file\\jupyter.lnk')"
   ]
  },
  {
   "cell_type": "code",
   "execution_count": 10,
   "id": "387f3b06",
   "metadata": {},
   "outputs": [],
   "source": [
    "# Tieeps di"
   ]
  },
  {
   "cell_type": "code",
   "execution_count": null,
   "id": "7f7c279a",
   "metadata": {},
   "outputs": [],
   "source": [
    "# Xem ne"
   ]
  }
 ],
 "metadata": {
  "kernelspec": {
   "display_name": "Python 3 (ipykernel)",
   "language": "python",
   "name": "python3"
  },
  "language_info": {
   "codemirror_mode": {
    "name": "ipython",
    "version": 3
   },
   "file_extension": ".py",
   "mimetype": "text/x-python",
   "name": "python",
   "nbconvert_exporter": "python",
   "pygments_lexer": "ipython3",
   "version": "3.9.6"
  }
 },
 "nbformat": 4,
 "nbformat_minor": 5
}
